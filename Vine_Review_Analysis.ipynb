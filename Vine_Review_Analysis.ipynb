{
  "nbformat": 4,
  "nbformat_minor": 0,
  "metadata": {
    "colab": {
      "name": "Vine_Review_Analysis.ipynb",
      "provenance": [],
      "collapsed_sections": []
    },
    "kernelspec": {
      "name": "python3",
      "display_name": "Python 3"
    },
    "language_info": {
      "name": "python"
    }
  },
  "cells": [
    {
      "cell_type": "code",
      "metadata": {
        "colab": {
          "base_uri": "https://localhost:8080/"
        },
        "id": "EbeGzj-y4_NA",
        "outputId": "71e0a69c-4036-4f50-cc9d-116a50a740d0"
      },
      "source": [
        "import os\n",
        "# Find the latest version of spark 3.0 from http://www.apache.org/dist/spark/ and enter as the spark version\n",
        "# For example:\n",
        "# spark_version = 'spark-3.0.3'\n",
        "spark_version = 'spark-3.1.2'\n",
        "os.environ['SPARK_VERSION']=spark_version\n",
        "\n",
        "# Install Spark and Java\n",
        "!apt-get update\n",
        "!apt-get install openjdk-11-jdk-headless -qq > /dev/null\n",
        "!wget -q http://www.apache.org/dist/spark/$SPARK_VERSION/$SPARK_VERSION-bin-hadoop2.7.tgz\n",
        "!tar xf $SPARK_VERSION-bin-hadoop2.7.tgz\n",
        "!pip install -q findspark\n",
        "\n",
        "# Set Environment Variables\n",
        "import os\n",
        "os.environ[\"JAVA_HOME\"] = \"/usr/lib/jvm/java-11-openjdk-amd64\"\n",
        "os.environ[\"SPARK_HOME\"] = f\"/content/{spark_version}-bin-hadoop2.7\"\n",
        "\n",
        "# Start a SparkSession\n",
        "import findspark\n",
        "findspark.init()"
      ],
      "execution_count": 3,
      "outputs": [
        {
          "output_type": "stream",
          "text": [
            "\r0% [Working]\r            \rGet:1 http://security.ubuntu.com/ubuntu bionic-security InRelease [88.7 kB]\n",
            "\r0% [Connecting to archive.ubuntu.com (91.189.88.142)] [1 InRelease 0 B/88.7 kB \r0% [Connecting to archive.ubuntu.com (91.189.88.142)] [Connected to cloud.r-pro\r0% [1 InRelease gpgv 88.7 kB] [Waiting for headers] [Connected to cloud.r-proje\r                                                                               \rIgn:2 https://developer.download.nvidia.com/compute/cuda/repos/ubuntu1804/x86_64  InRelease\n",
            "\r0% [1 InRelease gpgv 88.7 kB] [Waiting for headers] [Waiting for headers] [Wait\r                                                                               \rGet:3 https://cloud.r-project.org/bin/linux/ubuntu bionic-cran40/ InRelease [3,626 B]\n",
            "\r0% [1 InRelease gpgv 88.7 kB] [Waiting for headers] [Waiting for headers] [Wait\r                                                                               \rGet:4 http://ppa.launchpad.net/c2d4u.team/c2d4u4.0+/ubuntu bionic InRelease [15.9 kB]\n",
            "\r0% [1 InRelease gpgv 88.7 kB] [Waiting for headers] [4 InRelease 2,572 B/15.9 k\r                                                                               \rIgn:5 https://developer.download.nvidia.com/compute/machine-learning/repos/ubuntu1804/x86_64  InRelease\n",
            "\r0% [1 InRelease gpgv 88.7 kB] [Waiting for headers] [4 InRelease 2,572 B/15.9 k\r                                                                               \rGet:6 https://developer.download.nvidia.com/compute/cuda/repos/ubuntu1804/x86_64  Release [697 B]\n",
            "\r0% [1 InRelease gpgv 88.7 kB] [Waiting for headers] [4 InRelease 5,468 B/15.9 k\r0% [1 InRelease gpgv 88.7 kB] [Waiting for headers] [4 InRelease 5,468 B/15.9 k\r                                                                               \rHit:7 http://archive.ubuntu.com/ubuntu bionic InRelease\n",
            "\r0% [1 InRelease gpgv 88.7 kB] [Waiting for headers] [4 InRelease 8,364 B/15.9 k\r                                                                               \rHit:8 https://developer.download.nvidia.com/compute/machine-learning/repos/ubuntu1804/x86_64  Release\n",
            "Get:9 https://developer.download.nvidia.com/compute/cuda/repos/ubuntu1804/x86_64  Release.gpg [836 B]\n",
            "Get:10 http://archive.ubuntu.com/ubuntu bionic-updates InRelease [88.7 kB]\n",
            "Get:11 http://security.ubuntu.com/ubuntu bionic-security/multiverse amd64 Packages [26.7 kB]\n",
            "Hit:12 http://ppa.launchpad.net/cran/libgit2/ubuntu bionic InRelease\n",
            "Get:13 http://security.ubuntu.com/ubuntu bionic-security/universe amd64 Packages [1,420 kB]\n",
            "Get:14 http://security.ubuntu.com/ubuntu bionic-security/restricted amd64 Packages [510 kB]\n",
            "Get:15 http://security.ubuntu.com/ubuntu bionic-security/main amd64 Packages [2,263 kB]\n",
            "Get:16 http://archive.ubuntu.com/ubuntu bionic-backports InRelease [74.6 kB]\n",
            "Hit:17 http://ppa.launchpad.net/deadsnakes/ppa/ubuntu bionic InRelease\n",
            "Get:18 https://cloud.r-project.org/bin/linux/ubuntu bionic-cran40/ Packages [62.9 kB]\n",
            "Get:19 http://ppa.launchpad.net/graphics-drivers/ppa/ubuntu bionic InRelease [21.3 kB]\n",
            "Ign:21 https://developer.download.nvidia.com/compute/cuda/repos/ubuntu1804/x86_64  Packages\n",
            "Get:21 https://developer.download.nvidia.com/compute/cuda/repos/ubuntu1804/x86_64  Packages [695 kB]\n",
            "Get:22 http://ppa.launchpad.net/c2d4u.team/c2d4u4.0+/ubuntu bionic/main Sources [1,786 kB]\n",
            "Get:23 http://archive.ubuntu.com/ubuntu bionic-updates/main amd64 Packages [2,698 kB]\n",
            "Get:24 http://ppa.launchpad.net/c2d4u.team/c2d4u4.0+/ubuntu bionic/main amd64 Packages [914 kB]\n",
            "Get:25 http://archive.ubuntu.com/ubuntu bionic-updates/multiverse amd64 Packages [39.5 kB]\n",
            "Get:26 http://archive.ubuntu.com/ubuntu bionic-updates/universe amd64 Packages [2,195 kB]\n",
            "Get:27 http://archive.ubuntu.com/ubuntu bionic-updates/restricted amd64 Packages [544 kB]\n",
            "Get:28 http://ppa.launchpad.net/graphics-drivers/ppa/ubuntu bionic/main amd64 Packages [44.1 kB]\n",
            "Fetched 13.5 MB in 4s (3,606 kB/s)\n",
            "Reading package lists... Done\n"
          ],
          "name": "stdout"
        }
      ]
    },
    {
      "cell_type": "code",
      "metadata": {
        "id": "DvNVo2NB5bEh"
      },
      "source": [
        "from pyspark.sql import SparkSession\n",
        "spark = SparkSession.builder.appName(\"Amazon-Challenge-Vine-Review\").getOrCreate()"
      ],
      "execution_count": 4,
      "outputs": []
    },
    {
      "cell_type": "code",
      "metadata": {
        "colab": {
          "base_uri": "https://localhost:8080/"
        },
        "id": "oQ2qdbqa5mrz",
        "outputId": "0aee0d25-622b-48ed-f597-f39d49df108c"
      },
      "source": [
        "from pyspark import SparkFiles\n",
        "url = \"https://s3.amazonaws.com/amazon-reviews-pds/tsv/amazon_reviews_us_Tools_v1_00.tsv.gz\"\n",
        "spark.sparkContext.addFile(url)\n",
        "df = spark.read.option(\"encoding\", \"UTF-8\").csv(SparkFiles.get(\"\"), sep=\"\\t\", header=True, inferSchema=True)\n",
        "df.show()"
      ],
      "execution_count": 5,
      "outputs": [
        {
          "output_type": "stream",
          "text": [
            "+-----------+-----------+--------------+----------+--------------+--------------------+----------------+-----------+-------------+-----------+----+-----------------+--------------------+--------------------+-----------+\n",
            "|marketplace|customer_id|     review_id|product_id|product_parent|       product_title|product_category|star_rating|helpful_votes|total_votes|vine|verified_purchase|     review_headline|         review_body|review_date|\n",
            "+-----------+-----------+--------------+----------+--------------+--------------------+----------------+-----------+-------------+-----------+----+-----------------+--------------------+--------------------+-----------+\n",
            "|         US|   15785389|R2UM5QMHBHC90Q|B00H5U9ZD6|     115362950|WallPeg 12 sq ft ...|           Tools|          5|            0|          0|   N|                Y|Great organizer, ...|Very nice. Will o...| 2015-08-31|\n",
            "|         US|   47910848|  RF0D1LEIF6L7|B001TJGCS0|     570955425|Nite Ize Nite Daw...|           Tools|          4|            0|          0|   N|                Y|Like it, but the ...|Like it, but the ...| 2015-08-31|\n",
            "|         US|   36328996|  RM6YKIWQVNSY|B000NIK8JW|     128843593|Stanley 84-058 4 ...|           Tools|          1|            6|          6|   N|                Y|        poor quality|We were excited t...| 2015-08-31|\n",
            "|         US|   51785809|R1RL3L68ASPS36|B008ZYRGUA|     407828107|Powerextra 14.4V ...|           Tools|          4|            0|          0|   N|                Y|          Four Stars|Quick delivery. P...| 2015-08-31|\n",
            "|         US|   40757491|R1U4XFBFAG34CY|B00K5CA0GC|     490746675|Waterproof Invisi...|           Tools|          5|            0|          0|   N|                Y|          Five Stars|Quality waterproo...| 2015-08-31|\n",
            "|         US|   35544833|R3KFIK8P0I91PL|B00AIJAA94|     148352067|Crime Scene Do No...|           Tools|          5|            0|          0|   N|                Y|Excellent Decorat...|Ordered for my hu...| 2015-08-31|\n",
            "|         US|   16474909| RENOAY76PPK1O|B00JKEI6K8|     331801084|Aweek® 2 Pcs Bicy...|           Tools|          5|            0|          0|   N|                Y|          Five Stars|GREAT SELLER PROD...| 2015-08-31|\n",
            "|         US|   22601598| RINV884I0NL5V|B00AGCHVS6|     471514859|Ryobi P102 Genuin...|           Tools|          1|            0|          0|   N|                Y|Worked great for ...|My battery has di...| 2015-08-31|\n",
            "|         US|   16129808| R5KJH6CXZH2PX|B002S0O7U4|     162253576|Wiha 66995 6-Piec...|           Tools|          5|            0|          0|   N|                Y|       Great quality|Great product at ...| 2015-08-31|\n",
            "|         US|   24382335| RO69JF6QWD0W1|B0084YHXMW|      69530650|TOMTOP LED Submar...|           Tools|          5|            0|          0|   N|                Y|          Five Stars|           Excellent| 2015-08-31|\n",
            "|         US|   49796324|R3L9NQBH3FI55C|B00MLSS1SW|     916693555|Black & Decker BD...|           Tools|          4|            1|          1|   N|                Y|Really worked great!|This little sande...| 2015-08-31|\n",
            "|         US|   33289687| R4YH95YPHVU0C|B00D4WLS2A|      39333316|Crain 126 Staple ...|           Tools|          5|            0|          0|   N|                Y|         LOVE IT!!!!|This is the most ...| 2015-08-31|\n",
            "|         US|   10916386|R10M1WWDDQBGG2|B00JGCDV5Y|     550596607|Diamond Semi Roun...|           Tools|          2|            0|          0|   N|                Y|I needed to cut s...|I needed to cut s...| 2015-08-31|\n",
            "|         US|   34071500| RV3KWQBTNIO62|B00N0PS3YM|     735538025|It Mall 9 LED 375...|           Tools|          5|            1|          1|   N|                Y|   Works pretty well|Lights up small d...| 2015-08-31|\n",
            "|         US|   50594486|R1M7YUNLZI0G9F|B0000DD4KV|     506501960|IRWIN Tools Metri...|           Tools|          5|            1|          1|   N|                Y|          Five Stars|Great product for...| 2015-08-31|\n",
            "|         US|   21945887|R2MTL2D4E4HEF4|B0009H5FB8|     268586246|743022-A Backing ...|           Tools|          5|            0|          0|   N|                Y|          Five Stars|Many thanks for t...| 2015-08-31|\n",
            "|         US|   47749608| RXAHWIC1584UQ|B00NKSMPZW|     824618679|ClearArmor 141001...|           Tools|          5|           20|         23|   N|                Y|          Five Stars|geart product :) ...| 2015-08-31|\n",
            "|         US|   48880662| RMOIQFERVQDWS|B00RBAB92K|     156791442|KKmoon 9cm Mini A...|           Tools|          5|            0|          0|   N|                Y|          Five Stars|           very good| 2015-08-31|\n",
            "|         US|    4660265| R710G45MKODY9|B00QGBNZVI|     962324810|Refun E6 High Pow...|           Tools|          2|            1|          1|   N|                Y|           Two Stars|Scratches on lenses.| 2015-08-31|\n",
            "|         US|   18397238|R23ZIUGUM7TBMY|B00XXU3CDG|     543062309|Dr.meter S20 Mois...|           Tools|          1|            0|          1|   N|                Y|Don't waste your ...|It's a piece of $...| 2015-08-31|\n",
            "+-----------+-----------+--------------+----------+--------------+--------------------+----------------+-----------+-------------+-----------+----+-----------------+--------------------+--------------------+-----------+\n",
            "only showing top 20 rows\n",
            "\n"
          ],
          "name": "stdout"
        }
      ]
    },
    {
      "cell_type": "code",
      "metadata": {
        "colab": {
          "base_uri": "https://localhost:8080/"
        },
        "id": "IAy3R6Z_rY6n",
        "outputId": "77dbc931-8952-46fb-cb7f-5931662872dc"
      },
      "source": [
        "# Create the vine_table. DataFrame\n",
        "vine_df = df.select(['review_id', 'star_rating', 'helpful_votes', 'total_votes', 'vine', 'verified_purchase'])\n",
        "vine_df = vine_df.withColumn('star_rating',vine_df.star_rating.cast('integer')) #convert star_rating column from string to integer\n",
        "vine_df.show()\n",
        "vine_df.printSchema()"
      ],
      "execution_count": 6,
      "outputs": [
        {
          "output_type": "stream",
          "text": [
            "+--------------+-----------+-------------+-----------+----+-----------------+\n",
            "|     review_id|star_rating|helpful_votes|total_votes|vine|verified_purchase|\n",
            "+--------------+-----------+-------------+-----------+----+-----------------+\n",
            "|R2UM5QMHBHC90Q|          5|            0|          0|   N|                Y|\n",
            "|  RF0D1LEIF6L7|          4|            0|          0|   N|                Y|\n",
            "|  RM6YKIWQVNSY|          1|            6|          6|   N|                Y|\n",
            "|R1RL3L68ASPS36|          4|            0|          0|   N|                Y|\n",
            "|R1U4XFBFAG34CY|          5|            0|          0|   N|                Y|\n",
            "|R3KFIK8P0I91PL|          5|            0|          0|   N|                Y|\n",
            "| RENOAY76PPK1O|          5|            0|          0|   N|                Y|\n",
            "| RINV884I0NL5V|          1|            0|          0|   N|                Y|\n",
            "| R5KJH6CXZH2PX|          5|            0|          0|   N|                Y|\n",
            "| RO69JF6QWD0W1|          5|            0|          0|   N|                Y|\n",
            "|R3L9NQBH3FI55C|          4|            1|          1|   N|                Y|\n",
            "| R4YH95YPHVU0C|          5|            0|          0|   N|                Y|\n",
            "|R10M1WWDDQBGG2|          2|            0|          0|   N|                Y|\n",
            "| RV3KWQBTNIO62|          5|            1|          1|   N|                Y|\n",
            "|R1M7YUNLZI0G9F|          5|            1|          1|   N|                Y|\n",
            "|R2MTL2D4E4HEF4|          5|            0|          0|   N|                Y|\n",
            "| RXAHWIC1584UQ|          5|           20|         23|   N|                Y|\n",
            "| RMOIQFERVQDWS|          5|            0|          0|   N|                Y|\n",
            "| R710G45MKODY9|          2|            1|          1|   N|                Y|\n",
            "|R23ZIUGUM7TBMY|          1|            0|          1|   N|                Y|\n",
            "+--------------+-----------+-------------+-----------+----+-----------------+\n",
            "only showing top 20 rows\n",
            "\n",
            "root\n",
            " |-- review_id: string (nullable = true)\n",
            " |-- star_rating: integer (nullable = true)\n",
            " |-- helpful_votes: integer (nullable = true)\n",
            " |-- total_votes: integer (nullable = true)\n",
            " |-- vine: string (nullable = true)\n",
            " |-- verified_purchase: string (nullable = true)\n",
            "\n"
          ],
          "name": "stdout"
        }
      ]
    },
    {
      "cell_type": "code",
      "metadata": {
        "colab": {
          "base_uri": "https://localhost:8080/"
        },
        "id": "KMn-JwSisVSR",
        "outputId": "982835e4-2a8b-4c3c-97d6-aa5fef4092dc"
      },
      "source": [
        "# filter by products with 20 or more total votes \n",
        "vine_votes_df = vine_df.filter('total_votes>=20')\n",
        "vine_votes_df.show()"
      ],
      "execution_count": 7,
      "outputs": [
        {
          "output_type": "stream",
          "text": [
            "+--------------+-----------+-------------+-----------+----+-----------------+\n",
            "|     review_id|star_rating|helpful_votes|total_votes|vine|verified_purchase|\n",
            "+--------------+-----------+-------------+-----------+----+-----------------+\n",
            "| RXAHWIC1584UQ|          5|           20|         23|   N|                Y|\n",
            "| RSBELAIC899DO|          5|           46|         51|   N|                Y|\n",
            "|R2HCC4CJ59D225|          4|           43|         43|   N|                Y|\n",
            "|R39BVCCVPRV6F5|          5|           10|         22|   N|                Y|\n",
            "| RL9VF9WXHEHKR|          5|           35|         36|   N|                Y|\n",
            "|R1ZINLWUOLTZ46|          1|           39|         45|   N|                N|\n",
            "|R1CQKM1K1CHOHS|          1|           21|         22|   N|                N|\n",
            "|R1ZG19X1NOLCRF|          5|            5|         21|   N|                Y|\n",
            "|R1YOX5Z4GF3ZSW|          1|            1|         22|   N|                Y|\n",
            "| R2DHAM7J1KMWN|          5|           23|         24|   N|                N|\n",
            "|R2KOLBXPW57WC3|          1|            4|         38|   N|                N|\n",
            "|R26EZ2INBETPU2|          1|          103|        128|   N|                N|\n",
            "|R265ZMDO2ISN1O|          5|           20|         21|   N|                Y|\n",
            "|R3NZ7JTOCPYE1S|          4|           32|         33|   N|                Y|\n",
            "|R3HQQ725T45NCH|          3|            9|         21|   N|                Y|\n",
            "|R15JJ5AGVSB71T|          5|           33|         33|   N|                Y|\n",
            "|R28WDBNT2XRACG|          1|           19|         24|   N|                Y|\n",
            "|R3HP224QDFQ2SN|          5|           21|         22|   N|                Y|\n",
            "| RTURVI4KNPMG1|          5|          146|        154|   N|                Y|\n",
            "| RH2BXZ337F38J|          5|           62|         66|   N|                Y|\n",
            "+--------------+-----------+-------------+-----------+----+-----------------+\n",
            "only showing top 20 rows\n",
            "\n"
          ],
          "name": "stdout"
        }
      ]
    },
    {
      "cell_type": "code",
      "metadata": {
        "colab": {
          "base_uri": "https://localhost:8080/"
        },
        "id": "poJSsWc_xRoe",
        "outputId": "d68ab37b-b3c4-44bb-8ae0-f02b948afa08"
      },
      "source": [
        "# filter by products with 50% or more helpful votes\n",
        "vine_helpful_df = vine_votes_df.withColumn('helpful_mix', vine_votes_df['helpful_votes']/vine_votes_df['total_votes'])\n",
        "vine_helpful_df.show()\n",
        "vine_help50_df = vine_helpful_df.filter('helpful_mix>0.50')\n",
        "vine_help50_df.show()"
      ],
      "execution_count": 8,
      "outputs": [
        {
          "output_type": "stream",
          "text": [
            "+--------------+-----------+-------------+-----------+----+-----------------+--------------------+\n",
            "|     review_id|star_rating|helpful_votes|total_votes|vine|verified_purchase|         helpful_mix|\n",
            "+--------------+-----------+-------------+-----------+----+-----------------+--------------------+\n",
            "| RXAHWIC1584UQ|          5|           20|         23|   N|                Y|  0.8695652173913043|\n",
            "| RSBELAIC899DO|          5|           46|         51|   N|                Y|  0.9019607843137255|\n",
            "|R2HCC4CJ59D225|          4|           43|         43|   N|                Y|                 1.0|\n",
            "|R39BVCCVPRV6F5|          5|           10|         22|   N|                Y| 0.45454545454545453|\n",
            "| RL9VF9WXHEHKR|          5|           35|         36|   N|                Y|  0.9722222222222222|\n",
            "|R1ZINLWUOLTZ46|          1|           39|         45|   N|                N|  0.8666666666666667|\n",
            "|R1CQKM1K1CHOHS|          1|           21|         22|   N|                N|  0.9545454545454546|\n",
            "|R1ZG19X1NOLCRF|          5|            5|         21|   N|                Y| 0.23809523809523808|\n",
            "|R1YOX5Z4GF3ZSW|          1|            1|         22|   N|                Y|0.045454545454545456|\n",
            "| R2DHAM7J1KMWN|          5|           23|         24|   N|                N|  0.9583333333333334|\n",
            "|R2KOLBXPW57WC3|          1|            4|         38|   N|                N| 0.10526315789473684|\n",
            "|R26EZ2INBETPU2|          1|          103|        128|   N|                N|           0.8046875|\n",
            "|R265ZMDO2ISN1O|          5|           20|         21|   N|                Y|  0.9523809523809523|\n",
            "|R3NZ7JTOCPYE1S|          4|           32|         33|   N|                Y|  0.9696969696969697|\n",
            "|R3HQQ725T45NCH|          3|            9|         21|   N|                Y| 0.42857142857142855|\n",
            "|R15JJ5AGVSB71T|          5|           33|         33|   N|                Y|                 1.0|\n",
            "|R28WDBNT2XRACG|          1|           19|         24|   N|                Y|  0.7916666666666666|\n",
            "|R3HP224QDFQ2SN|          5|           21|         22|   N|                Y|  0.9545454545454546|\n",
            "| RTURVI4KNPMG1|          5|          146|        154|   N|                Y|   0.948051948051948|\n",
            "| RH2BXZ337F38J|          5|           62|         66|   N|                Y|  0.9393939393939394|\n",
            "+--------------+-----------+-------------+-----------+----+-----------------+--------------------+\n",
            "only showing top 20 rows\n",
            "\n",
            "+--------------+-----------+-------------+-----------+----+-----------------+------------------+\n",
            "|     review_id|star_rating|helpful_votes|total_votes|vine|verified_purchase|       helpful_mix|\n",
            "+--------------+-----------+-------------+-----------+----+-----------------+------------------+\n",
            "| RXAHWIC1584UQ|          5|           20|         23|   N|                Y|0.8695652173913043|\n",
            "| RSBELAIC899DO|          5|           46|         51|   N|                Y|0.9019607843137255|\n",
            "|R2HCC4CJ59D225|          4|           43|         43|   N|                Y|               1.0|\n",
            "| RL9VF9WXHEHKR|          5|           35|         36|   N|                Y|0.9722222222222222|\n",
            "|R1ZINLWUOLTZ46|          1|           39|         45|   N|                N|0.8666666666666667|\n",
            "|R1CQKM1K1CHOHS|          1|           21|         22|   N|                N|0.9545454545454546|\n",
            "| R2DHAM7J1KMWN|          5|           23|         24|   N|                N|0.9583333333333334|\n",
            "|R26EZ2INBETPU2|          1|          103|        128|   N|                N|         0.8046875|\n",
            "|R265ZMDO2ISN1O|          5|           20|         21|   N|                Y|0.9523809523809523|\n",
            "|R3NZ7JTOCPYE1S|          4|           32|         33|   N|                Y|0.9696969696969697|\n",
            "|R15JJ5AGVSB71T|          5|           33|         33|   N|                Y|               1.0|\n",
            "|R28WDBNT2XRACG|          1|           19|         24|   N|                Y|0.7916666666666666|\n",
            "|R3HP224QDFQ2SN|          5|           21|         22|   N|                Y|0.9545454545454546|\n",
            "| RTURVI4KNPMG1|          5|          146|        154|   N|                Y| 0.948051948051948|\n",
            "| RH2BXZ337F38J|          5|           62|         66|   N|                Y|0.9393939393939394|\n",
            "|R3G8L2NRMZZHPI|          4|           23|         23|   N|                Y|               1.0|\n",
            "|R21Q3I2ZEDSMZK|          5|           80|         84|   N|                Y|0.9523809523809523|\n",
            "|R16MXXKY0MRKZW|          1|           48|         52|   N|                Y|0.9230769230769231|\n",
            "|R121P6RES3Z7WC|          1|          145|        162|   N|                Y|0.8950617283950617|\n",
            "|R1ILUNGUCRZGF3|          5|           21|         21|   N|                Y|               1.0|\n",
            "+--------------+-----------+-------------+-----------+----+-----------------+------------------+\n",
            "only showing top 20 rows\n",
            "\n"
          ],
          "name": "stdout"
        }
      ]
    },
    {
      "cell_type": "code",
      "metadata": {
        "colab": {
          "base_uri": "https://localhost:8080/"
        },
        "id": "4QPsocVw2TAM",
        "outputId": "db361cc7-f010-439c-d8a2-2ffcc17ea646"
      },
      "source": [
        "# filter vine program reviews\n",
        "vine_yes_df = vine_help50_df.filter(vine_help50_df['vine'] == 'Y')\n",
        "vine_yes_df.show()\n",
        "vine_yes_length = vine_yes_df.count()\n",
        "print(vine_yes_length)"
      ],
      "execution_count": 12,
      "outputs": [
        {
          "output_type": "stream",
          "text": [
            "+--------------+-----------+-------------+-----------+----+-----------------+------------------+\n",
            "|     review_id|star_rating|helpful_votes|total_votes|vine|verified_purchase|       helpful_mix|\n",
            "+--------------+-----------+-------------+-----------+----+-----------------+------------------+\n",
            "|R3QIQRG107AP19|          5|           38|         41|   Y|                N| 0.926829268292683|\n",
            "|R1ZNBHGCYE8VN1|          5|          175|        181|   Y|                N|0.9668508287292817|\n",
            "|R1BNZJ9IKGRBC2|          4|           63|         70|   Y|                N|               0.9|\n",
            "|R2IXTN4PBRHBO2|          5|           19|         24|   Y|                N|0.7916666666666666|\n",
            "|R32AOW3L09SYMQ|          5|           29|         34|   Y|                N|0.8529411764705882|\n",
            "|R34Z4VTLF7PC6X|          4|           33|         36|   Y|                N|0.9166666666666666|\n",
            "|R25403NE9JCRZZ|          2|           36|         40|   Y|                N|               0.9|\n",
            "|R2QT2G3YRGC0PS|          5|           18|         20|   Y|                N|               0.9|\n",
            "| RDUP15OURNUSA|          5|           22|         23|   Y|                N|0.9565217391304348|\n",
            "|R1EI4NZTG7G14F|          5|           17|         23|   Y|                N|0.7391304347826086|\n",
            "|R2G0YB0MC67NLG|          5|           29|         38|   Y|                N|0.7631578947368421|\n",
            "| RGA1PHAE93JR2|          1|           16|         21|   Y|                N|0.7619047619047619|\n",
            "|R1QS5MKSKOGG0U|          5|           15|         20|   Y|                N|              0.75|\n",
            "|R3MVW880K2V5BK|          3|           37|         46|   Y|                N|0.8043478260869565|\n",
            "|R11JKXPSMHSZY1|          4|           21|         28|   Y|                N|              0.75|\n",
            "|  RSPSTXGY3OD8|          5|           29|         33|   Y|                N|0.8787878787878788|\n",
            "| RQO0NNMNWRLB4|          3|           47|         54|   Y|                N|0.8703703703703703|\n",
            "|R3H5BSP5KCFHBG|          4|           19|         21|   Y|                N|0.9047619047619048|\n",
            "|R2AIJIWME1WDKN|          5|           16|         24|   Y|                N|0.6666666666666666|\n",
            "| R585MGH89JZZ5|          5|           27|         34|   Y|                N|0.7941176470588235|\n",
            "+--------------+-----------+-------------+-----------+----+-----------------+------------------+\n",
            "only showing top 20 rows\n",
            "\n",
            "285\n"
          ],
          "name": "stdout"
        }
      ]
    },
    {
      "cell_type": "code",
      "metadata": {
        "colab": {
          "base_uri": "https://localhost:8080/"
        },
        "id": "sPPFlV7L28SF",
        "outputId": "a5cfca42-f4a3-48d0-914f-9b21cb9f63fa"
      },
      "source": [
        "# filter non-vine program reviews\n",
        "vine_no_df = vine_help50_df.filter(vine_help50_df['vine'] == 'N')\n",
        "vine_no_df.show()\n",
        "vine_no_length = vine_no_df.count()\n",
        "print(vine_no_length)"
      ],
      "execution_count": 14,
      "outputs": [
        {
          "output_type": "stream",
          "text": [
            "+--------------+-----------+-------------+-----------+----+-----------------+------------------+\n",
            "|     review_id|star_rating|helpful_votes|total_votes|vine|verified_purchase|       helpful_mix|\n",
            "+--------------+-----------+-------------+-----------+----+-----------------+------------------+\n",
            "| RXAHWIC1584UQ|          5|           20|         23|   N|                Y|0.8695652173913043|\n",
            "| RSBELAIC899DO|          5|           46|         51|   N|                Y|0.9019607843137255|\n",
            "|R2HCC4CJ59D225|          4|           43|         43|   N|                Y|               1.0|\n",
            "| RL9VF9WXHEHKR|          5|           35|         36|   N|                Y|0.9722222222222222|\n",
            "|R1ZINLWUOLTZ46|          1|           39|         45|   N|                N|0.8666666666666667|\n",
            "|R1CQKM1K1CHOHS|          1|           21|         22|   N|                N|0.9545454545454546|\n",
            "| R2DHAM7J1KMWN|          5|           23|         24|   N|                N|0.9583333333333334|\n",
            "|R26EZ2INBETPU2|          1|          103|        128|   N|                N|         0.8046875|\n",
            "|R265ZMDO2ISN1O|          5|           20|         21|   N|                Y|0.9523809523809523|\n",
            "|R3NZ7JTOCPYE1S|          4|           32|         33|   N|                Y|0.9696969696969697|\n",
            "|R15JJ5AGVSB71T|          5|           33|         33|   N|                Y|               1.0|\n",
            "|R28WDBNT2XRACG|          1|           19|         24|   N|                Y|0.7916666666666666|\n",
            "|R3HP224QDFQ2SN|          5|           21|         22|   N|                Y|0.9545454545454546|\n",
            "| RTURVI4KNPMG1|          5|          146|        154|   N|                Y| 0.948051948051948|\n",
            "| RH2BXZ337F38J|          5|           62|         66|   N|                Y|0.9393939393939394|\n",
            "|R3G8L2NRMZZHPI|          4|           23|         23|   N|                Y|               1.0|\n",
            "|R21Q3I2ZEDSMZK|          5|           80|         84|   N|                Y|0.9523809523809523|\n",
            "|R16MXXKY0MRKZW|          1|           48|         52|   N|                Y|0.9230769230769231|\n",
            "|R121P6RES3Z7WC|          1|          145|        162|   N|                Y|0.8950617283950617|\n",
            "|R1ILUNGUCRZGF3|          5|           21|         21|   N|                Y|               1.0|\n",
            "+--------------+-----------+-------------+-----------+----+-----------------+------------------+\n",
            "only showing top 20 rows\n",
            "\n",
            "31452\n"
          ],
          "name": "stdout"
        }
      ]
    },
    {
      "cell_type": "code",
      "metadata": {
        "colab": {
          "base_uri": "https://localhost:8080/"
        },
        "id": "Kofx88Dg3UqB",
        "outputId": "24fb5e35-0b90-405a-fc57-6a323e8cbd7f"
      },
      "source": [
        "# total reviews, 5-star reviews, and % of 5-star reviews for vine program\n",
        "vine_y_stats_df = vine_yes_df.groupBy(\"star_rating\").count()\n",
        "vine_y_stats_df.show()\n",
        "vine_y_filter_df = vine_y_stats_df.filter(vine_y_stats_df['star_rating'] == 5)\n",
        "vine_y_filter_df.show()\n",
        "vine_y_summ_df = vine_y_filter_df.withColumn('5_rating_ppt', vine_y_filter_df['count']/vine_yes_length)\n",
        "vine_y_summ_df.show()"
      ],
      "execution_count": 18,
      "outputs": [
        {
          "output_type": "stream",
          "text": [
            "+-----------+-----+\n",
            "|star_rating|count|\n",
            "+-----------+-----+\n",
            "|          1|    7|\n",
            "|          3|   33|\n",
            "|          5|  163|\n",
            "|          4|   74|\n",
            "|          2|    8|\n",
            "+-----------+-----+\n",
            "\n",
            "+-----------+-----+\n",
            "|star_rating|count|\n",
            "+-----------+-----+\n",
            "|          5|  163|\n",
            "+-----------+-----+\n",
            "\n",
            "+-----------+-----+------------------+\n",
            "|star_rating|count|      5_rating_ppt|\n",
            "+-----------+-----+------------------+\n",
            "|          5|  163|0.5719298245614035|\n",
            "+-----------+-----+------------------+\n",
            "\n"
          ],
          "name": "stdout"
        }
      ]
    },
    {
      "cell_type": "code",
      "metadata": {
        "colab": {
          "base_uri": "https://localhost:8080/"
        },
        "id": "7zwAB1rX3dMf",
        "outputId": "c9d3c6f6-d850-40b7-f885-f9826019980d"
      },
      "source": [
        "# total reviews, 5-star reviews, and % of 5-star reviews for non-vine program\n",
        "vine_n_stats_df = vine_no_df.groupBy(\"star_rating\").count()\n",
        "vine_n_stats_df.show()\n",
        "vine_n_filter_df = vine_n_stats_df.filter(vine_n_stats_df['star_rating'] == 5)\n",
        "vine_n_filter_df.show()\n",
        "vine_n_summ_df = vine_n_filter_df.withColumn('5_rating_ppt', vine_n_filter_df['count']/vine_no_length)\n",
        "vine_n_summ_df.show()"
      ],
      "execution_count": 19,
      "outputs": [
        {
          "output_type": "stream",
          "text": [
            "+-----------+-----+\n",
            "|star_rating|count|\n",
            "+-----------+-----+\n",
            "|          1| 5370|\n",
            "|          3| 3452|\n",
            "|          5|14603|\n",
            "|          4| 5599|\n",
            "|          2| 2428|\n",
            "+-----------+-----+\n",
            "\n",
            "+-----------+-----+\n",
            "|star_rating|count|\n",
            "+-----------+-----+\n",
            "|          5|14603|\n",
            "+-----------+-----+\n",
            "\n",
            "+-----------+-----+-------------------+\n",
            "|star_rating|count|       5_rating_ppt|\n",
            "+-----------+-----+-------------------+\n",
            "|          5|14603|0.46429479842299376|\n",
            "+-----------+-----+-------------------+\n",
            "\n"
          ],
          "name": "stdout"
        }
      ]
    }
  ]
}